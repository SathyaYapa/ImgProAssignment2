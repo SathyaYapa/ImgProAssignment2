{
 "cells": [
  {
   "attachments": {},
   "cell_type": "markdown",
   "metadata": {},
   "source": [
    "Q1"
   ]
  },
  {
   "cell_type": "code",
   "execution_count": null,
   "metadata": {},
   "outputs": [],
   "source": [
    "import cv2 as cv\n",
    "import matplotlib.pyplot as plt\n",
    "import numpy as np\n",
    "\n",
    "\n",
    "im= cv.imread(r\"D:\\Saves\\Python\\ImgProAssignment2\\images\\contact_lens.tif\", cv.IMREAD_REDUCED_GRAYSCALE_2)\n",
    "assert im is not None\n",
    "\n",
    "\n",
    "sobel_h= np.array([[-1,0,1],[-2,0,2],[-1,0,1]], np.float32)\n",
    "imh = cv.filter2D(im.astype('float'), -1, sobel_h)\n",
    "imh = cv.normalize(imh.astype('float'), None,0, 255.0, cv.NORM_MINMAX)\n",
    "\n",
    "sobel_v= np.array([[-1,-2,-1],[0,0,0],[1,2,1]], np.float32)\n",
    "imv = cv.filter2D(im.astype('float'), -1, sobel_v)\n",
    "imv = cv.normalize(imv.astype('float'), None,0, 255.0, cv.NORM_MINMAX)\n",
    "\n",
    "fig, ax= plt.subplots(1,3, figsize=(10,20))\n",
    "ax[0].imshow(im, cmap='gray', vmin=0, vmax=255)\n",
    "ax[0].set_title('Original')\n",
    "ax[1].imshow(imh, cmap='gray', vmin=0, vmax=255)\n",
    "ax[1].set_title('Sobel Horizontal Filtered')\n",
    "ax[2].imshow(imv, cmap='gray', vmin=0, vmax=255)\n",
    "ax[2].set_title('Sobel Vertical Filtered')\n",
    "plt.show()"
   ]
  }
 ],
 "metadata": {
  "kernelspec": {
   "display_name": "Python 3",
   "language": "python",
   "name": "python3"
  },
  "language_info": {
   "name": "python",
   "version": "3.11.1"
  },
  "orig_nbformat": 4,
  "vscode": {
   "interpreter": {
    "hash": "5238573367df39f7286bb46f9ff5f08f63a01a80960060ce41e3c79b190280fa"
   }
  }
 },
 "nbformat": 4,
 "nbformat_minor": 2
}
